{
 "cells": [
  {
   "cell_type": "code",
   "execution_count": 26,
   "id": "2cea8b23",
   "metadata": {},
   "outputs": [
    {
     "name": "stdout",
     "output_type": "stream",
     "text": [
      "Available tasks: ['aggregate_monthly', 'extract_from_pdf', 'normalize']\n"
     ]
    }
   ],
   "source": [
    "import fin_lab\n",
    "from fin_lab.registry import available\n",
    "print(\"Available tasks:\", available())\n"
   ]
  },
  {
   "cell_type": "code",
   "execution_count": 30,
   "id": "d36fe3fd",
   "metadata": {},
   "outputs": [],
   "source": [
    "DATA_DIR = \"fin_data\"             # where raw files live\n",
    "RUN_DIR  = \"fin_runs\"             # outputs (csv, models)\n",
    "DB_PATH  = os.path.join(RUN_DIR, \"assistant.db\")\n",
    "MODEL_PATH = os.path.join(RUN_DIR, \"clf.joblib\")\n",
    "\n",
    "os.makedirs(DATA_DIR, exist_ok=True)\n",
    "os.makedirs(RUN_DIR, exist_ok=True)\n",
    "\n",
    "CATEGORIES = [\n",
    "    \"Income\",\"Rent\",\"Mortgage\",\"Utilities\",\"Food\",\"Groceries\",\"Dining\",\n",
    "    \"Transport\",\"Auto\",\"Health\",\"Insurance\",\"Debt\",\"Subscriptions\",\n",
    "    \"Shopping\",\"Entertainment\",\"Travel\",\"Education\",\"Fees\",\"Taxes\",\"Misc\"\n",
    "]\n"
   ]
  },
  {
   "cell_type": "code",
   "execution_count": 32,
   "id": "8650bec8",
   "metadata": {},
   "outputs": [],
   "source": [
    "from pydantic import BaseModel, Field\n",
    "from langgraph.graph import StateGraph, END"
   ]
  },
  {
   "cell_type": "code",
   "execution_count": 33,
   "id": "45660862",
   "metadata": {},
   "outputs": [
    {
     "ename": "NameError",
     "evalue": "name 'PFState' is not defined",
     "output_type": "error",
     "traceback": [
      "\u001b[31m---------------------------------------------------------------------------\u001b[39m",
      "\u001b[31mNameError\u001b[39m                                 Traceback (most recent call last)",
      "\u001b[36mCell\u001b[39m\u001b[36m \u001b[39m\u001b[32mIn[33]\u001b[39m\u001b[32m, line 2\u001b[39m\n\u001b[32m      1\u001b[39m \u001b[38;5;66;03m# Build the graph\u001b[39;00m\n\u001b[32m----> \u001b[39m\u001b[32m2\u001b[39m builder = StateGraph(\u001b[43mPFState\u001b[49m)\n\u001b[32m      3\u001b[39m builder.add_node(\u001b[33m\"\u001b[39m\u001b[33mingest\u001b[39m\u001b[33m\"\u001b[39m, ingest_node)\n\u001b[32m      4\u001b[39m builder.add_node(\u001b[33m\"\u001b[39m\u001b[33mnormalize\u001b[39m\u001b[33m\"\u001b[39m, normalize_node)\n",
      "\u001b[31mNameError\u001b[39m: name 'PFState' is not defined"
     ]
    }
   ],
   "source": [
    "# Build the graph\n",
    "builder = StateGraph(PFState)\n",
    "builder.add_node(\"ingest\", ingest_node)\n",
    "builder.add_node(\"normalize\", normalize_node)\n",
    "builder.add_node(\"categorize\", categorize_node)\n",
    "builder.add_node(\"learn\", learn_node)\n",
    "builder.add_node(\"analyze\", analyze_node)\n",
    "builder.add_node(\"export\", export_node)\n",
    "builder.add_node(\"query\", query_node)\n",
    "\n",
    "builder.set_entry_point(\"ingest\")\n",
    "builder.add_edge(\"ingest\",\"normalize\")\n",
    "builder.add_edge(\"normalize\",\"categorize\")\n",
    "builder.add_edge(\"categorize\",\"learn\")\n",
    "builder.add_edge(\"learn\",\"analyze\")\n",
    "builder.add_edge(\"analyze\",\"export\")"
   ]
  },
  {
   "cell_type": "code",
   "execution_count": 28,
   "id": "00b62850",
   "metadata": {},
   "outputs": [
    {
     "ename": "NameError",
     "evalue": "name 'run_pipeline' is not defined",
     "output_type": "error",
     "traceback": [
      "\u001b[31m---------------------------------------------------------------------------\u001b[39m",
      "\u001b[31mNameError\u001b[39m                                 Traceback (most recent call last)",
      "\u001b[36mCell\u001b[39m\u001b[36m \u001b[39m\u001b[32mIn[28]\u001b[39m\u001b[32m, line 1\u001b[39m\n\u001b[32m----> \u001b[39m\u001b[32m1\u001b[39m res = \u001b[43mrun_pipeline\u001b[49m()\n\u001b[32m      2\u001b[39m \u001b[38;5;28mprint\u001b[39m(\u001b[33m\"\u001b[39m\u001b[33mCSV exported to:\u001b[39m\u001b[33m\"\u001b[39m, res.output_csv)\n",
      "\u001b[31mNameError\u001b[39m: name 'run_pipeline' is not defined"
     ]
    }
   ],
   "source": [
    "res = run_pipeline()\n",
    "print(\"CSV exported to:\", res.output_csv)"
   ]
  }
 ],
 "metadata": {
  "kernelspec": {
   "display_name": "Fin",
   "language": "python",
   "name": "python3"
  },
  "language_info": {
   "codemirror_mode": {
    "name": "ipython",
    "version": 3
   },
   "file_extension": ".py",
   "mimetype": "text/x-python",
   "name": "python",
   "nbconvert_exporter": "python",
   "pygments_lexer": "ipython3",
   "version": "3.11.13"
  }
 },
 "nbformat": 4,
 "nbformat_minor": 5
}
